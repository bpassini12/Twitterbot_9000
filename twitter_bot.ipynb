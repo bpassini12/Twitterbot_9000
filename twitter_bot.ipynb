{
 "cells": [
  {
   "cell_type": "code",
   "execution_count": 1,
   "metadata": {},
   "outputs": [],
   "source": [
    "import tweepy\n",
    "import os\n",
    "import time\n",
    "import randfacts\n",
    "import setup"
   ]
  },
  {
   "cell_type": "code",
   "execution_count": 2,
   "metadata": {},
   "outputs": [],
   "source": [
    "consumer_api_key = setup.consumer_api_key\n",
    "consumer_api_secret_key = setup.consumer_api_secret_key\n",
    "\n",
    "access_token = setup.access_token\n",
    "access_token_secret = setup.access_token_secret\n",
    "\n",
    "twt_lim = 280"
   ]
  },
  {
   "cell_type": "code",
   "execution_count": 3,
   "metadata": {},
   "outputs": [],
   "source": [
    "def tweet(twt_str):\n",
    "    client = tweepy.Client(access_token=access_token, access_token_secret=access_token_secret, consumer_key=consumer_api_key, consumer_secret=consumer_api_secret_key)\n",
    "    response = client.create_tweet(text=twt_str)\n",
    "\n",
    "\n",
    "def get_fact():\n",
    "    return randfacts.get_fact()"
   ]
  },
  {
   "cell_type": "code",
   "execution_count": 6,
   "metadata": {},
   "outputs": [],
   "source": [
    "a = time.time()\n",
    "\n",
    "fact_str = get_fact()\n",
    "\n",
    "while len(fact_str) > twt_lim and (time.time()-a)<120:\n",
    "    fact_str = get_fact()\n",
    "else:\n",
    "    tweet(fact_str)"
   ]
  }
 ],
 "metadata": {
  "kernelspec": {
   "display_name": "twit_bot",
   "language": "python",
   "name": "twit_bot"
  },
  "language_info": {
   "codemirror_mode": {
    "name": "ipython",
    "version": 3
   },
   "file_extension": ".py",
   "mimetype": "text/x-python",
   "name": "python",
   "nbconvert_exporter": "python",
   "pygments_lexer": "ipython3",
   "version": "3.8.3"
  },
  "orig_nbformat": 4
 },
 "nbformat": 4,
 "nbformat_minor": 2
}
